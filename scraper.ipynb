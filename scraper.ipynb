{
 "cells": [
  {
   "cell_type": "code",
   "execution_count": 1,
   "metadata": {},
   "outputs": [],
   "source": [
    "YEAR = 2024\n",
    "\n",
    "BASE_PATH = f\"https://www.fia.com/events/fia-formula-one-world-championship/season-{YEAR}/{YEAR}-fia-formula-one-world-championship\""
   ]
  },
  {
   "cell_type": "code",
   "execution_count": 2,
   "metadata": {},
   "outputs": [
    {
     "name": "stdout",
     "output_type": "stream",
     "text": [
      "bahrain-grand-prix Bahrain Grand Prix BAHRAIN\n",
      "saudi-arabian-grand-prix Saudi Arabian Grand Prix JEDDAH CORNICHE CIRCUIT\n",
      "australian-grand-prix Australian Grand Prix ALBERT PARK\n",
      "japanese-grand-prix Japanese Grand Prix SUZUKA\n",
      "chinese-grand-prix Chinese Grand Prix Shanghai International Circuit\n",
      "miami-grand-prix Miami Grand Prix Miami International Autodrome\n",
      "emilia-romagna-grand-prix Emilia Romagna Grand Prix IMOLA\n",
      "monaco-grand-prix Monaco Grand Prix MONACO\n",
      "canadian-grand-prix Canadian Grand Prix MONTREAL GILLES VILLENEUVE\n",
      "spanish-grand-prix Spanish Grand Prix CATALUNYA\n",
      "austrian-grand-prix Austrian Grand Prix RED BULL RING - SPIELBERG\n",
      "british-grand-prix British Grand Prix SILVERSTONE INTERNATIONAL\n",
      "hungarian-grand-prix Hungarian Grand Prix HUNGARORING\n",
      "belgian-grand-prix Belgian Grand Prix SPA-FRANCORCHAMPS\n",
      "dutch-grand-prix Dutch Grand Prix ZANDVOORT\n",
      "italian-grand-prix Italian Grand Prix MONZA\n",
      "azerbaijan-grand-prix Azerbaijan Grand Prix Baku City Circuit\n",
      "singapore-grand-prix Singapore Grand Prix SINGAPORE - MARINA BAY\n",
      "united-states-grand-prix United States Grand Prix Circuit of The Americas\n",
      "mexico-city-grand-prix Mexico City Grand Prix Autodromo Hermanos Rodriguez\n",
      "sao-paulo-grand-prix São Paulo Grand Prix Autodromo Jose Carlos Pace\n",
      "las-vegas-grand-prix Las Vegas Grand Prix Las Vegas Strip Circuit\n",
      "qatar-grand-prix Qatar Grand Prix Lusail International Circuit\n",
      "abu-dhabi-grand-prix Abu Dhabi Grand Prix ABU DHABI - YAS MARINA\n"
     ]
    }
   ],
   "source": [
    "from bs4 import BeautifulSoup\n",
    "import requests\n",
    "\n",
    "response = requests.get(BASE_PATH)\n",
    "\n",
    "html_content = response.text \n",
    "# Parse the HTML with BeautifulSoup\n",
    "soup = BeautifulSoup(html_content, 'html.parser')\n",
    "\n",
    "# Find the main container\n",
    "event_divs = soup.select('div[class*=\"event-item\"]')\n",
    "\n",
    "# Extract data\n",
    "event_data = []\n",
    "for event in event_divs:\n",
    "    link = event.find('a', href=True)\n",
    "    if link:\n",
    "        href = link['href']\n",
    "        # Get the text content of the two nested divs\n",
    "        nested_divs = link.find_all('div')\n",
    "        content = \" :: \".join(div.get_text(strip=True) for div in nested_divs)\n",
    "        event_data.append((href, content))\n",
    "\n",
    "# Print the extracted data\n",
    "events = []\n",
    "for href, content in event_data:\n",
    "    href = href.split(\"season\")[1].split(\"/\")[1]\n",
    "    (name, circuit) = tuple(content.split(\" :: \"))\n",
    "    print(f\"{href} {name} {circuit}\")\n",
    "    events.append((href, name, circuit))"
   ]
  },
  {
   "cell_type": "code",
   "execution_count": 3,
   "metadata": {},
   "outputs": [
    {
     "data": {
      "text/plain": [
       "[('bahrain-grand-prix', 'Bahrain Grand Prix', 'BAHRAIN'),\n",
       " ('saudi-arabian-grand-prix',\n",
       "  'Saudi Arabian Grand Prix',\n",
       "  'JEDDAH CORNICHE CIRCUIT'),\n",
       " ('australian-grand-prix', 'Australian Grand Prix', 'ALBERT PARK'),\n",
       " ('japanese-grand-prix', 'Japanese Grand Prix', 'SUZUKA'),\n",
       " ('chinese-grand-prix',\n",
       "  'Chinese Grand Prix',\n",
       "  'Shanghai International Circuit'),\n",
       " ('miami-grand-prix', 'Miami Grand Prix', 'Miami International Autodrome'),\n",
       " ('emilia-romagna-grand-prix', 'Emilia Romagna Grand Prix', 'IMOLA'),\n",
       " ('monaco-grand-prix', 'Monaco Grand Prix', 'MONACO'),\n",
       " ('canadian-grand-prix', 'Canadian Grand Prix', 'MONTREAL GILLES VILLENEUVE'),\n",
       " ('spanish-grand-prix', 'Spanish Grand Prix', 'CATALUNYA'),\n",
       " ('austrian-grand-prix', 'Austrian Grand Prix', 'RED BULL RING - SPIELBERG'),\n",
       " ('british-grand-prix', 'British Grand Prix', 'SILVERSTONE INTERNATIONAL'),\n",
       " ('hungarian-grand-prix', 'Hungarian Grand Prix', 'HUNGARORING'),\n",
       " ('belgian-grand-prix', 'Belgian Grand Prix', 'SPA-FRANCORCHAMPS'),\n",
       " ('dutch-grand-prix', 'Dutch Grand Prix', 'ZANDVOORT'),\n",
       " ('italian-grand-prix', 'Italian Grand Prix', 'MONZA'),\n",
       " ('azerbaijan-grand-prix', 'Azerbaijan Grand Prix', 'Baku City Circuit'),\n",
       " ('singapore-grand-prix', 'Singapore Grand Prix', 'SINGAPORE - MARINA BAY'),\n",
       " ('united-states-grand-prix',\n",
       "  'United States Grand Prix',\n",
       "  'Circuit of The Americas'),\n",
       " ('mexico-city-grand-prix',\n",
       "  'Mexico City Grand Prix',\n",
       "  'Autodromo Hermanos Rodriguez'),\n",
       " ('sao-paulo-grand-prix',\n",
       "  'São Paulo Grand Prix',\n",
       "  'Autodromo Jose Carlos Pace'),\n",
       " ('las-vegas-grand-prix', 'Las Vegas Grand Prix', 'Las Vegas Strip Circuit'),\n",
       " ('qatar-grand-prix', 'Qatar Grand Prix', 'Lusail International Circuit'),\n",
       " ('abu-dhabi-grand-prix', 'Abu Dhabi Grand Prix', 'ABU DHABI - YAS MARINA')]"
      ]
     },
     "execution_count": 3,
     "metadata": {},
     "output_type": "execute_result"
    }
   ],
   "source": [
    "events"
   ]
  },
  {
   "cell_type": "code",
   "execution_count": null,
   "metadata": {},
   "outputs": [],
   "source": [
    "import os\n",
    "import requests\n",
    "from bs4 import BeautifulSoup\n",
    "\n",
    "def download_pdfs(url, name):\n",
    "    # Fetch the page content\n",
    "    response = requests.get(url)\n",
    "    soup = BeautifulSoup(response.content, 'html.parser')\n",
    "\n",
    "    # Create a directory to store downloaded files\n",
    "    os.makedirs('downloaded_pdfs', exist_ok=True)\n",
    "\n",
    "    links = soup.select('div.for-documents a[href$=\".pdf\"]')\n",
    "    for link in links:\n",
    "        pdf_url = link['href']\n",
    "        if pdf_url.startswith(\"/\"):\n",
    "            pdf_url=f\"https://fia.com{pdf_url}\"\n",
    "        filename = os.path.basename(pdf_url)\n",
    "        filepath = os.path.join('downloaded_pdfs', filename)\n",
    "\n",
    "        response = requests.get(pdf_url)\n",
    "        response.raise_for_status()\n",
    "        \n",
    "        # Save the PDF\n",
    "        with open(filepath, 'wb') as f:\n",
    "            f.write(response.content)\n",
    "\n",
    "for event, name, circuit in events:\n",
    "    event_timing_url = f\"https://www.fia.com/events/fia-formula-one-world-championship/season-{YEAR}/{event}/eventtiming-information\"\n",
    "    download_pdfs(event_timing_url, name)"
   ]
  }
 ],
 "metadata": {
  "kernelspec": {
   "display_name": "Python 3 (ipykernel)",
   "language": "python",
   "name": "python3"
  },
  "language_info": {
   "codemirror_mode": {
    "name": "ipython",
    "version": 3
   },
   "file_extension": ".py",
   "mimetype": "text/x-python",
   "name": "python",
   "nbconvert_exporter": "python",
   "pygments_lexer": "ipython3",
   "version": "3.11.0"
  }
 },
 "nbformat": 4,
 "nbformat_minor": 4
}
